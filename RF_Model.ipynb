{
 "cells": [
  {
   "cell_type": "code",
   "execution_count": null,
   "id": "6b2064f4",
   "metadata": {},
   "outputs": [],
   "source": []
  },
  {
   "cell_type": "code",
   "execution_count": null,
   "id": "2e62c7d3",
   "metadata": {},
   "outputs": [],
   "source": [
    "flooding_change_detection = ee.Image('projects/ee-tut-452819/assets/flood_extent_houston')\n",
    "hand_inundation = ee.Image('projects/ee-tut-452819/assets/HAND_no_threshold')\n",
    "hand_inundation = hand_inundation.gte(best_threshold)\n",
    "hand_inundation = hand_inundation.clip(aoi)\n",
    "flooded_change_detection = flooding_change_detection.clip(aoi)"
   ]
  },
  {
   "cell_type": "code",
   "execution_count": null,
   "id": "0e639604",
   "metadata": {},
   "outputs": [],
   "source": [
    "after_start = '2017-08-28'\n",
    "after_end = '2017-09-05'\n",
    "\n",
    "# RF model\n",
    "flood_truth = flooding_change_detection.unmask()\n",
    "precip = ee.ImageCollection('UCSB-CHG/CHIRPS/DAILY').filterDate(after_start, after_end).sum().clip(aoi)  # total precipitation over flood month\n",
    "\n",
    "# Land Cover (static, 2020)\n",
    "landcover = ee.Image('ESA/WorldCover/v100/2020').clip(aoi)"
   ]
  },
  {
   "cell_type": "code",
   "execution_count": null,
   "id": "798dfc9e",
   "metadata": {},
   "outputs": [],
   "source": [
    "target_proj = flood_truth.projection().atScale(100)\n",
    "\n",
    "precip_band = precip.resample('bicubic').reproject(target_proj)\n",
    "precip_band = precip_band.updateMask(precip_band.gt(-1)).clip(table)\n",
    "\n",
    "# Reproject and resample land cover\n",
    "landcover_band = landcover.reproject(crs=target_proj)"
   ]
  }
 ],
 "metadata": {
  "language_info": {
   "name": "python"
  }
 },
 "nbformat": 4,
 "nbformat_minor": 5
}
